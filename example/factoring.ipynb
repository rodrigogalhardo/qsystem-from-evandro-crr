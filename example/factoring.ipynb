{
 "cells": [
  {
   "cell_type": "markdown",
   "metadata": {},
   "source": [
    "# Shor's factoring algorithm"
   ]
  },
  {
   "cell_type": "code",
   "execution_count": 1,
   "metadata": {},
   "outputs": [],
   "source": [
    "from qsystem import QSystem, Gate\n",
    "from random import randint\n",
    "from math import log2, ceil, floor, gcd\n",
    "from IPython.display import display, Latex, Math"
   ]
  },
  {
   "cell_type": "code",
   "execution_count": 2,
   "metadata": {},
   "outputs": [
    {
     "data": {
      "text/latex": [
       "Factoring $n = 15$"
      ],
      "text/plain": [
       "<IPython.core.display.Latex object>"
      ]
     },
     "execution_count": 2,
     "metadata": {},
     "output_type": "execute_result"
    }
   ],
   "source": [
    "n = 15\n",
    "Latex('Factoring $n = {}$'.format(n))"
   ]
  },
  {
   "cell_type": "markdown",
   "metadata": {},
   "source": [
    "## step 1: Random select an $a$ less than $n$ and coprime with $n$"
   ]
  },
  {
   "cell_type": "code",
   "execution_count": 3,
   "metadata": {},
   "outputs": [
    {
     "data": {
      "text/latex": [
       "$\\displaystyle a = 2$"
      ],
      "text/plain": [
       "<IPython.core.display.Math object>"
      ]
     },
     "execution_count": 3,
     "metadata": {},
     "output_type": "execute_result"
    }
   ],
   "source": [
    "a = 0\n",
    "while gcd(n, a) != 1 or a == 1:\n",
    "    a = randint(2, n)\n",
    "Math('a = {}'.format(a))"
   ]
  },
  {
   "cell_type": "markdown",
   "metadata": {},
   "source": [
    "## step 2: use the quantum period-finding to find the period $r$ of the function $f(x) = a^x \\mod n$\n",
    "\n",
    "### Period-finding\n",
    "\n",
    "It will be necessary 2 quantum registers with size of \n",
    "$$s = \\lceil\\log_2(n+1)\\rceil$$"
   ]
  },
  {
   "cell_type": "code",
   "execution_count": 4,
   "metadata": {},
   "outputs": [
    {
     "data": {
      "text/latex": [
       "$\\displaystyle s = 4$"
      ],
      "text/plain": [
       "<IPython.core.display.Math object>"
      ]
     },
     "execution_count": 4,
     "metadata": {},
     "output_type": "execute_result"
    }
   ],
   "source": [
    "s = ceil(log2(n+1))\n",
    "Math('s = {}'.format(s))"
   ]
  },
  {
   "cell_type": "markdown",
   "metadata": {},
   "source": [
    "and a quantum oracle 'POWN' that \n",
    "$$\\left|x\\right>\\left|0\\right>\n",
    "\\xrightarrow{\\text{POWN}}\n",
    "\\left|x\\right>\\left|a^x (\\text{mod}\\,n)\\right>$$"
   ]
  },
  {
   "cell_type": "code",
   "execution_count": 5,
   "metadata": {},
   "outputs": [],
   "source": [
    "def pown(x):\n",
    "    x = x >> s\n",
    "    fx = pow(a, x, n)\n",
    "    return (x << s) | fx\n",
    "\n",
    "def it():\n",
    "    for x in range(2**s):\n",
    "        yield x << s\n",
    "    \n",
    "pown_gate = Gate.make_fgate(pown, 2*s, it())"
   ]
  },
  {
   "cell_type": "code",
   "execution_count": 6,
   "metadata": {},
   "outputs": [
    {
     "name": "stdout",
     "output_type": "stream",
     "text": [
      "init first register at\n",
      "+1.000       |0000>\n",
      "\n"
     ]
    }
   ],
   "source": [
    "seed = randint(0,10000)\n",
    "q = QSystem(s, seed)\n",
    "\n",
    "print('init first register at')\n",
    "print(q)"
   ]
  },
  {
   "cell_type": "markdown",
   "metadata": {},
   "source": [
    "### step 1: Prepare a superposition\n",
    "$$\\left|0\\right>\\left|0\\right>\n",
    "\\xrightarrow{H^{\\otimes n}}\n",
    "{1\\over\\sqrt{2^s}}\\sum_{x=0}^{2^{n}-1} \\left|x\\right>\\left|0\\right>\n",
    "$$"
   ]
  },
  {
   "cell_type": "code",
   "execution_count": 7,
   "metadata": {},
   "outputs": [
    {
     "name": "stdout",
     "output_type": "stream",
     "text": [
      "+0.250       |0000>\n",
      "+0.250       |0001>\n",
      "+0.250       |0010>\n",
      "+0.250       |0011>\n",
      "+0.250       |0100>\n",
      "+0.250       |0101>\n",
      "+0.250       |0110>\n",
      "+0.250       |0111>\n",
      "+0.250       |1000>\n",
      "+0.250       |1001>\n",
      "+0.250       |1010>\n",
      "+0.250       |1011>\n",
      "+0.250       |1100>\n",
      "+0.250       |1101>\n",
      "+0.250       |1110>\n",
      "+0.250       |1111>\n",
      "\n"
     ]
    }
   ],
   "source": [
    "q.evol(gate='H', qbit=0, count=s)\n",
    "print(q)"
   ]
  },
  {
   "cell_type": "markdown",
   "metadata": {},
   "source": [
    "### step 2: Prepare a periodic superposition\n",
    "$$\n",
    "{1\\over\\sqrt{2^s}}\\sum_{x=0}^{2^{n}-1} \\left|x\\right>\\left|0\\right>\n",
    "\\xrightarrow{\\text{POWN}}\n",
    "{1\\over\\sqrt{2^s}}\\sum_{x=0}^{2^{n}-1}\n",
    "\\left|x\\right>\\left|a^x(\\text{mod}\\, n)\\right>\n",
    "$$"
   ]
  },
  {
   "cell_type": "code",
   "execution_count": 8,
   "metadata": {},
   "outputs": [
    {
     "name": "stdout",
     "output_type": "stream",
     "text": [
      "add the second register\n",
      "+0.250       |0000>|0001>\n",
      "+0.250       |0001>|0010>\n",
      "+0.250       |0010>|0100>\n",
      "+0.250       |0011>|1000>\n",
      "+0.250       |0100>|0001>\n",
      "+0.250       |0101>|0010>\n",
      "+0.250       |0110>|0100>\n",
      "+0.250       |0111>|1000>\n",
      "+0.250       |1000>|0001>\n",
      "+0.250       |1001>|0010>\n",
      "+0.250       |1010>|0100>\n",
      "+0.250       |1011>|1000>\n",
      "+0.250       |1100>|0001>\n",
      "+0.250       |1101>|0010>\n",
      "+0.250       |1110>|0100>\n",
      "+0.250       |1111>|1000>\n",
      "\n"
     ]
    }
   ],
   "source": [
    "print('add the second register')\n",
    "q.add_ancillas(s)\n",
    "q.apply(gate=pown_gate, qbit=0)\n",
    "print(q)"
   ]
  },
  {
   "cell_type": "markdown",
   "metadata": {},
   "source": [
    "### step 3 (optional): measure the second register\n",
    "help to understand the algorithm\n",
    "\n",
    "$$\n",
    "{1\\over\\sqrt{2^s}}\\sum_{x=0}^{2^{s}-1}\n",
    "\\left|x\\right>\\left|a^x(\\text{mod}\\, n)\\right>\n",
    "\\xrightarrow{\\text{measure}[s:2s]}\n",
    "\\sqrt{r\\over{2^s}}\\sum_{i=0}^{{2^{s}\\over r}-1}\n",
    "\\left|ir + x_0\\right>\\left|a^{x_0}(\\text{mod}\\, n)\\right>\n",
    "$$\n"
   ]
  },
  {
   "cell_type": "code",
   "execution_count": 9,
   "metadata": {},
   "outputs": [
    {
     "name": "stdout",
     "output_type": "stream",
     "text": [
      "measure and remove the second register\n",
      "+0.500       |0010>\n",
      "+0.500       |0110>\n",
      "+0.500       |1010>\n",
      "+0.500       |1110>\n",
      "\n"
     ]
    }
   ],
   "source": [
    "print('measure and remove the second register')\n",
    "q.rm_ancillas() \n",
    "print(q)"
   ]
  },
  {
   "cell_type": "markdown",
   "metadata": {},
   "source": [
    "### step 4: fourier transform of the first register\n",
    "$$\n",
    "\\sqrt{r\\over{2^s}}\\sum_{i=0}^{{2^{s}\\over r}-1}\n",
    "\\left|ir + x_0\\right>\n",
    "\\xrightarrow{\\text{QFT}_s}\n",
    "{1\\over\\sqrt{r}}\\sum_{i=0}^{r-1}\\left|i{2^s\\over r}\\right>e^{\\phi_i}\n",
    "$$"
   ]
  },
  {
   "cell_type": "code",
   "execution_count": 10,
   "metadata": {},
   "outputs": [
    {
     "name": "stdout",
     "output_type": "stream",
     "text": [
      "+0.500       |0000>\n",
      "-0.500       |0100>\n",
      "+0.500       |1000>\n",
      "-0.500       |1100>\n",
      "\n"
     ]
    }
   ],
   "source": [
    "q.qft(qbegin=0, qend=s)\n",
    "print(q)"
   ]
  },
  {
   "cell_type": "markdown",
   "metadata": {},
   "source": [
    "### step 5: measure the first register and repeat the algorithm to measure distincts multiples of $2^s\\over r$"
   ]
  },
  {
   "cell_type": "code",
   "execution_count": 11,
   "metadata": {},
   "outputs": [
    {
     "name": "stdout",
     "output_type": "stream",
     "text": [
      "measurements results = [8, 0, 12, 4]\n"
     ]
    }
   ],
   "source": [
    "q.measure_all()\n",
    "c = q.bits()\n",
    "c = sum([m*2**i for m, i in zip(c, reversed(range(len(c))))])\n",
    "mea = [c]\n",
    "\n",
    "for _ in range(s-1):\n",
    "    seed = randint(0,10000)\n",
    "    q = QSystem(s, seed)\n",
    "\n",
    "    q.evol('H', 0, s)     # 1\n",
    "    q.add_ancillas(s)\n",
    "    q.apply(pown_gate, 0) # 2\n",
    "    q.rm_ancillas()\n",
    "    q.qft(0, s)           # 4\n",
    "    q.measure_all()       # 5\n",
    "\n",
    "    c = q.bits()\n",
    "    c = sum([m*2**i for m, i in zip(c, reversed(range(len(c))))])\n",
    "    mea.append(c)\n",
    "print('measurements results =', mea)"
   ]
  },
  {
   "cell_type": "markdown",
   "metadata": {},
   "source": [
    "### step 6: with the measurements compute \n",
    "$$\n",
    "r = {2^s\\over\\gcd(\\text{measurements})}\n",
    "$$"
   ]
  },
  {
   "cell_type": "code",
   "execution_count": 12,
   "metadata": {},
   "outputs": [
    {
     "data": {
      "text/latex": [
       "possible period $r = 4.0$"
      ],
      "text/plain": [
       "<IPython.core.display.Latex object>"
      ]
     },
     "metadata": {},
     "output_type": "display_data"
    }
   ],
   "source": [
    "c = mea[0]\n",
    "for m in mea:\n",
    "    c = gcd(c, m)\n",
    "if c == 0:\n",
    "    print('repite the period-finding algorithm')\n",
    "else:\n",
    "    r = 2**s/c\n",
    "    display(Latex('possible period $r = {}$'.format(r)))"
   ]
  },
  {
   "cell_type": "markdown",
   "metadata": {},
   "source": [
    "## step 3: if $r$ is odd go to step 1 else compute the two nontrivial factors of $n$, $pq = n$\n",
    "$$\n",
    "p = \\gcd(a^{r\\over2}-1, n)\n",
    "$$\n",
    "$$\n",
    "q = \\gcd(a^{r\\over2}+1, n)\n",
    "$$"
   ]
  },
  {
   "cell_type": "code",
   "execution_count": 13,
   "metadata": {},
   "outputs": [
    {
     "data": {
      "text/latex": [
       "$\\displaystyle 5*3=15$"
      ],
      "text/plain": [
       "<IPython.core.display.Math object>"
      ]
     },
     "metadata": {},
     "output_type": "display_data"
    }
   ],
   "source": [
    "if c == 0:\n",
    "    print('repite the period-finding algorithm')\n",
    "elif r % 2 == 1:\n",
    "    print('go to step 1')\n",
    "else: \n",
    "    p = gcd(int(a**(r/2)+1), n)\n",
    "    q = gcd(int(a**(r/2)-1), n)\n",
    "    display(Math('{}*{}={}'.format(p,q,p*q)))"
   ]
  }
 ],
 "metadata": {
  "kernelspec": {
   "display_name": "Python 3",
   "language": "python",
   "name": "python3"
  },
  "language_info": {
   "codemirror_mode": {
    "name": "ipython",
    "version": 3
   },
   "file_extension": ".py",
   "mimetype": "text/x-python",
   "name": "python",
   "nbconvert_exporter": "python",
   "pygments_lexer": "ipython3",
   "version": "3.7.3"
  }
 },
 "nbformat": 4,
 "nbformat_minor": 2
}
